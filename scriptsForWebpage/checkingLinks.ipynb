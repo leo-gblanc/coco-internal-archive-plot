{
 "cells": [
  {
   "cell_type": "code",
   "execution_count": null,
   "metadata": {},
   "outputs": [],
   "source": [
    "import json\n",
    "import re\n",
    "import requests"
   ]
  },
  {
   "cell_type": "code",
   "execution_count": 1,
   "metadata": {},
   "outputs": [
    {
     "ename": "FileNotFoundError",
     "evalue": "[Errno 2] No such file or directory: '[pathtococo-web]/coco-web/data-archive/data-archive.json'",
     "output_type": "error",
     "traceback": [
      "\u001b[1;31m---------------------------------------------------------------------------\u001b[0m",
      "\u001b[1;31mFileNotFoundError\u001b[0m                         Traceback (most recent call last)",
      "Cell \u001b[1;32mIn[1], line 1\u001b[0m\n\u001b[1;32m----> 1\u001b[0m \u001b[38;5;28;01mwith\u001b[39;00m \u001b[38;5;28mopen\u001b[39m(\u001b[38;5;124m\"\u001b[39m\u001b[38;5;124m[pathtococo-web]/coco-web/data-archive/data-archive.json\u001b[39m\u001b[38;5;124m\"\u001b[39m) \u001b[38;5;28;01mas\u001b[39;00m myfile:\n\u001b[0;32m      2\u001b[0m     data \u001b[38;5;241m=\u001b[39m json\u001b[38;5;241m.\u001b[39mload(myfile)  \n\u001b[0;32m      3\u001b[0m session \u001b[38;5;241m=\u001b[39m requests\u001b[38;5;241m.\u001b[39mSession()\n",
      "File \u001b[1;32mc:\\conda3\\Lib\\site-packages\\IPython\\core\\interactiveshell.py:324\u001b[0m, in \u001b[0;36m_modified_open\u001b[1;34m(file, *args, **kwargs)\u001b[0m\n\u001b[0;32m    317\u001b[0m \u001b[38;5;28;01mif\u001b[39;00m file \u001b[38;5;129;01min\u001b[39;00m {\u001b[38;5;241m0\u001b[39m, \u001b[38;5;241m1\u001b[39m, \u001b[38;5;241m2\u001b[39m}:\n\u001b[0;32m    318\u001b[0m     \u001b[38;5;28;01mraise\u001b[39;00m \u001b[38;5;167;01mValueError\u001b[39;00m(\n\u001b[0;32m    319\u001b[0m         \u001b[38;5;124mf\u001b[39m\u001b[38;5;124m\"\u001b[39m\u001b[38;5;124mIPython won\u001b[39m\u001b[38;5;124m'\u001b[39m\u001b[38;5;124mt let you open fd=\u001b[39m\u001b[38;5;132;01m{\u001b[39;00mfile\u001b[38;5;132;01m}\u001b[39;00m\u001b[38;5;124m by default \u001b[39m\u001b[38;5;124m\"\u001b[39m\n\u001b[0;32m    320\u001b[0m         \u001b[38;5;124m\"\u001b[39m\u001b[38;5;124mas it is likely to crash IPython. If you know what you are doing, \u001b[39m\u001b[38;5;124m\"\u001b[39m\n\u001b[0;32m    321\u001b[0m         \u001b[38;5;124m\"\u001b[39m\u001b[38;5;124myou can use builtins\u001b[39m\u001b[38;5;124m'\u001b[39m\u001b[38;5;124m open.\u001b[39m\u001b[38;5;124m\"\u001b[39m\n\u001b[0;32m    322\u001b[0m     )\n\u001b[1;32m--> 324\u001b[0m \u001b[38;5;28;01mreturn\u001b[39;00m io_open(file, \u001b[38;5;241m*\u001b[39margs, \u001b[38;5;241m*\u001b[39m\u001b[38;5;241m*\u001b[39mkwargs)\n",
      "\u001b[1;31mFileNotFoundError\u001b[0m: [Errno 2] No such file or directory: '[pathtococo-web]/coco-web/data-archive/data-archive.json'"
     ]
    }
   ],
   "source": [
    "with open(\"[pathtococo-web]/coco-web/data-archive/data-archive.json\") as myfile:\n",
    "    data = json.load(myfile)  \n",
    "session = requests.Session()\n",
    "number_of_broken_links = 0\n",
    "number_of_links = 0\n",
    "good_since_last_wrong = 0  # number of seen working links since last broken one\n",
    "for line in range(len(data)):\n",
    "    string = data[line][\"comment\"]  \n",
    "    try: \n",
    "        linkList = re.findall(f'][(](.+?)[)]', string)\n",
    "        for link in range(len(linkList)):\n",
    "            url = linkList[link] \n",
    "            try:\n",
    "                link_status = session.get(url)  # test link\n",
    "                if link_status.status_code == 200:  # 200 = link working\n",
    "                    number_of_links += 1\n",
    "                    print(\".\"*good_since_last_wrong, end=\"\\r\")  # print progress bar\n",
    "                    good_since_last_wrong += 1  \n",
    "                    pass\n",
    "                else:\n",
    "                    # try a second time, because sometimes, it takes time...\n",
    "                    if link_status.status_code == 200:  # 200 = link working\n",
    "                        number_of_links += 1\n",
    "                        print(\".\"*good_since_last_wrong, end=\"\\r\")  # print progress bar\n",
    "                        good_since_last_wrong += 1  \n",
    "                        pass\n",
    "                    else: # link really not working\n",
    "                        print(good_since_last_wrong*\".\")  \n",
    "                        print(data[line][\"suite\"] + \" - \" + data[line][\"algorithm\"] + \" - \" + url)\n",
    "                        number_of_broken_links += 1\n",
    "                        number_of_links += 1\n",
    "                        good_since_last_wrong = 0\n",
    "            \n",
    "            except requests.exceptions.RequestException as e:\n",
    "                print(good_since_last_wrong*\".\")\n",
    "                print(data[line][\"suite\"] + \" - \" + data[line][\"algorithm\"] + \" - \" + url)\n",
    "                number_of_broken_links += 1\n",
    "                number_of_links += 1\n",
    "                good_since_last_wrong = 0\n",
    "                \n",
    "    except AttributeError: \n",
    "        print(good_since_last_wrong*\".\")\n",
    "        print(string)\n",
    "        print(\"-\",data[line][\"suite\"])\n",
    "        print(\"-\", data[line][\"algorithm\"])\n",
    "        number_of_broken_links += 1\n",
    "        number_of_links += 1\n",
    "        good_since_last_wrong = 0\n",
    "\n",
    "if number_of_broken_links > 0:\n",
    "    print(str(number_of_broken_links) + \"/\" + str(number_of_links) + \" links not working right now.\")\n",
    "else:\n",
    "    print(\"All \" + str(number_of_links) + \" links working.\")\n",
    "\n",
    "\n",
    "\n",
    "\n",
    "    \n",
    "    \n",
    "    \n",
    "\n",
    "\n",
    "\n"
   ]
  },
  {
   "cell_type": "code",
   "execution_count": null,
   "metadata": {},
   "outputs": [],
   "source": []
  },
  {
   "cell_type": "code",
   "execution_count": null,
   "metadata": {},
   "outputs": [],
   "source": []
  },
  {
   "cell_type": "code",
   "execution_count": null,
   "metadata": {},
   "outputs": [],
   "source": []
  }
 ],
 "metadata": {
  "kernelspec": {
   "display_name": "base",
   "language": "python",
   "name": "python3"
  },
  "language_info": {
   "codemirror_mode": {
    "name": "ipython",
    "version": 3
   },
   "file_extension": ".py",
   "mimetype": "text/x-python",
   "name": "python",
   "nbconvert_exporter": "python",
   "pygments_lexer": "ipython3",
   "version": "3.12.3"
  }
 },
 "nbformat": 4,
 "nbformat_minor": 2
}
